{
  "nbformat": 4,
  "nbformat_minor": 0,
  "metadata": {
    "colab": {
      "provenance": []
    },
    "kernelspec": {
      "name": "python3",
      "display_name": "Python 3"
    },
    "language_info": {
      "name": "python"
    }
  },
  "cells": [
    {
      "cell_type": "code",
      "execution_count": null,
      "metadata": {
        "id": "vosEi4h6xfvA"
      },
      "outputs": [],
      "source": [
        "# Initialize the Dash app\n",
        "app = Dash(__name__)\n",
        "\n",
        "# Define the app layout\n",
        "app.layout = html.Div([\n",
        "    html.H1(children='Voteshare Prediction App', style={'textAlign': 'center'}),\n",
        "    dcc.Dropdown(\n",
        "        id='characteristics-dropdown',\n",
        "        options=[{'label': col, 'value': col} for col in X.columns],\n",
        "        value=[X.columns[0]],  # Default to the first column, must be a list for multi=True\n",
        "        multi=True\n",
        "    ),\n",
        "    dcc.Graph(id='prediction-graph')\n",
        "])\n",
        "\n",
        "# Define callback to update graph based on selected characteristics\n",
        "@callback(\n",
        "    Output('prediction-graph', 'figure'),\n",
        "    Input('characteristics-dropdown', 'value')\n",
        ")\n",
        "def update_graph(selected_features):\n",
        "    print(\"Selected features:\", selected_features)  # Debugging statement\n",
        "    if not selected_features:\n",
        "        selected_features = [X.columns[0]]  # Default to first feature if none selected\n",
        "\n",
        "    try:\n",
        "        df_filtered = df[selected_features]\n",
        "        print(\"Filtered DataFrame:\", df_filtered.head())  # Debugging statement\n",
        "        predictions = rf_model.predict(df_filtered)\n",
        "        df_filtered['Predicted Vote'] = predictions\n",
        "\n",
        "        # Create a scatter plot to visualize the predictions\n",
        "        fig = px.scatter(df_filtered, x=selected_features[0], y='Predicted Vote', title='Predicted Voteshare')\n",
        "    except Exception as e:\n",
        "        print(\"Error during prediction or graph update:\", e)\n",
        "        fig = px.scatter(title='Error in generating plot')\n",
        "\n",
        "    return fig\n",
        "\n",
        "# Run the app\n",
        "if __name__ == '__main__':\n",
        "    app.run_server(debug=True, port=8050)"
      ]
    }
  ]
}